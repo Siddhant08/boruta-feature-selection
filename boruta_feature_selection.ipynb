{
  "nbformat": 4,
  "nbformat_minor": 0,
  "metadata": {
    "colab": {
      "name": "boruta-feature-selection.ipynb",
      "provenance": [],
      "collapsed_sections": []
    },
    "kernelspec": {
      "name": "python3",
      "display_name": "Python 3"
    },
    "accelerator": "GPU"
  },
  "cells": [
    {
      "cell_type": "code",
      "metadata": {
        "id": "NBLb-A7SDNqH",
        "colab_type": "code",
        "colab": {
          "base_uri": "https://localhost:8080/",
          "height": 202
        },
        "outputId": "eed21a11-ed5f-446d-ffaf-7defcd8aea71"
      },
      "source": [
        "import pandas as pd\n",
        "### make X and y\n",
        "X = pd.DataFrame({'study_hours_in_a_week': [20, 30, 45, 55, 70],\n",
        "                  'height(in cms)': [182, 176, 174, 168, 181],\n",
        "                  'weight(in kg)': [70, 68, 78, 61, 82]})\n",
        "y = pd.Series([30, 44, 60, 68, 80], name = 'marks')\n",
        "\n",
        "pd.concat([X,y],axis=1)"
      ],
      "execution_count": 33,
      "outputs": [
        {
          "output_type": "execute_result",
          "data": {
            "text/html": [
              "<div>\n",
              "<style scoped>\n",
              "    .dataframe tbody tr th:only-of-type {\n",
              "        vertical-align: middle;\n",
              "    }\n",
              "\n",
              "    .dataframe tbody tr th {\n",
              "        vertical-align: top;\n",
              "    }\n",
              "\n",
              "    .dataframe thead th {\n",
              "        text-align: right;\n",
              "    }\n",
              "</style>\n",
              "<table border=\"1\" class=\"dataframe\">\n",
              "  <thead>\n",
              "    <tr style=\"text-align: right;\">\n",
              "      <th></th>\n",
              "      <th>study_hours_in_a_week</th>\n",
              "      <th>height(in cms)</th>\n",
              "      <th>weight(in kg)</th>\n",
              "      <th>marks</th>\n",
              "    </tr>\n",
              "  </thead>\n",
              "  <tbody>\n",
              "    <tr>\n",
              "      <th>0</th>\n",
              "      <td>20</td>\n",
              "      <td>182</td>\n",
              "      <td>70</td>\n",
              "      <td>30</td>\n",
              "    </tr>\n",
              "    <tr>\n",
              "      <th>1</th>\n",
              "      <td>30</td>\n",
              "      <td>176</td>\n",
              "      <td>68</td>\n",
              "      <td>44</td>\n",
              "    </tr>\n",
              "    <tr>\n",
              "      <th>2</th>\n",
              "      <td>45</td>\n",
              "      <td>174</td>\n",
              "      <td>78</td>\n",
              "      <td>60</td>\n",
              "    </tr>\n",
              "    <tr>\n",
              "      <th>3</th>\n",
              "      <td>55</td>\n",
              "      <td>168</td>\n",
              "      <td>61</td>\n",
              "      <td>68</td>\n",
              "    </tr>\n",
              "    <tr>\n",
              "      <th>4</th>\n",
              "      <td>70</td>\n",
              "      <td>181</td>\n",
              "      <td>82</td>\n",
              "      <td>80</td>\n",
              "    </tr>\n",
              "  </tbody>\n",
              "</table>\n",
              "</div>"
            ],
            "text/plain": [
              "   study_hours_in_a_week  height(in cms)  weight(in kg)  marks\n",
              "0                     20             182             70     30\n",
              "1                     30             176             68     44\n",
              "2                     45             174             78     60\n",
              "3                     55             168             61     68\n",
              "4                     70             181             82     80"
            ]
          },
          "metadata": {
            "tags": []
          },
          "execution_count": 33
        }
      ]
    },
    {
      "cell_type": "code",
      "metadata": {
        "id": "ffwbAkLSEoQc",
        "colab_type": "code",
        "colab": {
          "base_uri": "https://localhost:8080/",
          "height": 202
        },
        "outputId": "762b1bdf-2462-4091-dfbe-0a40be4452ad"
      },
      "source": [
        "import numpy as np\n",
        "### make X_shadow by randomly permuting each column of X\n",
        "np.random.seed(4)\n",
        "X_shadow = X.apply(np.random.permutation)\n",
        "X_shadow.columns = ['shuffled_' + feat for feat in X.columns]\n",
        "### make X_boruta by appending X_shadow to X\n",
        "X_boruta = pd.concat([X, X_shadow], axis = 1)\n",
        "X_boruta"
      ],
      "execution_count": 34,
      "outputs": [
        {
          "output_type": "execute_result",
          "data": {
            "text/html": [
              "<div>\n",
              "<style scoped>\n",
              "    .dataframe tbody tr th:only-of-type {\n",
              "        vertical-align: middle;\n",
              "    }\n",
              "\n",
              "    .dataframe tbody tr th {\n",
              "        vertical-align: top;\n",
              "    }\n",
              "\n",
              "    .dataframe thead th {\n",
              "        text-align: right;\n",
              "    }\n",
              "</style>\n",
              "<table border=\"1\" class=\"dataframe\">\n",
              "  <thead>\n",
              "    <tr style=\"text-align: right;\">\n",
              "      <th></th>\n",
              "      <th>study_hours_in_a_week</th>\n",
              "      <th>height(in cms)</th>\n",
              "      <th>weight(in kg)</th>\n",
              "      <th>shuffled_study_hours_in_a_week</th>\n",
              "      <th>shuffled_height(in cms)</th>\n",
              "      <th>shuffled_weight(in kg)</th>\n",
              "    </tr>\n",
              "  </thead>\n",
              "  <tbody>\n",
              "    <tr>\n",
              "      <th>0</th>\n",
              "      <td>20</td>\n",
              "      <td>182</td>\n",
              "      <td>70</td>\n",
              "      <td>30</td>\n",
              "      <td>168</td>\n",
              "      <td>82</td>\n",
              "    </tr>\n",
              "    <tr>\n",
              "      <th>1</th>\n",
              "      <td>30</td>\n",
              "      <td>176</td>\n",
              "      <td>68</td>\n",
              "      <td>45</td>\n",
              "      <td>181</td>\n",
              "      <td>78</td>\n",
              "    </tr>\n",
              "    <tr>\n",
              "      <th>2</th>\n",
              "      <td>45</td>\n",
              "      <td>174</td>\n",
              "      <td>78</td>\n",
              "      <td>70</td>\n",
              "      <td>182</td>\n",
              "      <td>61</td>\n",
              "    </tr>\n",
              "    <tr>\n",
              "      <th>3</th>\n",
              "      <td>55</td>\n",
              "      <td>168</td>\n",
              "      <td>61</td>\n",
              "      <td>55</td>\n",
              "      <td>174</td>\n",
              "      <td>70</td>\n",
              "    </tr>\n",
              "    <tr>\n",
              "      <th>4</th>\n",
              "      <td>70</td>\n",
              "      <td>181</td>\n",
              "      <td>82</td>\n",
              "      <td>20</td>\n",
              "      <td>176</td>\n",
              "      <td>68</td>\n",
              "    </tr>\n",
              "  </tbody>\n",
              "</table>\n",
              "</div>"
            ],
            "text/plain": [
              "   study_hours_in_a_week  ...  shuffled_weight(in kg)\n",
              "0                     20  ...                      82\n",
              "1                     30  ...                      78\n",
              "2                     45  ...                      61\n",
              "3                     55  ...                      70\n",
              "4                     70  ...                      68\n",
              "\n",
              "[5 rows x 6 columns]"
            ]
          },
          "metadata": {
            "tags": []
          },
          "execution_count": 34
        }
      ]
    },
    {
      "cell_type": "code",
      "metadata": {
        "id": "lS9ilXhm8FhA",
        "colab_type": "code",
        "colab": {
          "base_uri": "https://localhost:8080/",
          "height": 139
        },
        "outputId": "95f29e2c-266e-46d5-82ba-acdb2c2c8928"
      },
      "source": [
        "#random forest with boruta algorithm\n",
        "from sklearn.ensemble import RandomForestRegressor\n",
        "#define and fit random forest\n",
        "clf = RandomForestRegressor(max_depth=5)\n",
        "clf.fit(X_boruta, y)\n",
        "#store feature importances of shuffled features to get threshold\n",
        "feature_imp_shuffled = clf.feature_importances_[len(X.columns):]\n",
        "#round off feature importances for original and shuffled features to 2 decimal places\n",
        "feature_imp_shuffled=[round(i*100,2) for i in feature_imp_shuffled]\n",
        "feature_imp_X=[round(i*100,2) for i in feature_imp_X]\n",
        "print('Threshold for feature importance:',max(feature_imp_shuffled))\n",
        "for i in range(len(X_boruta.columns)):\n",
        "  print(X_boruta.columns[i]+': '+str(clf.feature_importances_[i]))"
      ],
      "execution_count": 35,
      "outputs": [
        {
          "output_type": "stream",
          "text": [
            "Threshold for feature importance: 20.08\n",
            "study_hours_in_a_week: 0.29258092742323494\n",
            "height(in cms): 0.12805921124355735\n",
            "weight(in kg): 0.11199052114762412\n",
            "shuffled_study_hours_in_a_week: 0.1455147430371407\n",
            "shuffled_height(in cms): 0.12105985595447127\n",
            "shuffled_weight(in kg): 0.2007947411939717\n"
          ],
          "name": "stdout"
        }
      ]
    },
    {
      "cell_type": "code",
      "metadata": {
        "id": "XoBYOg41HKg4",
        "colab_type": "code",
        "colab": {
          "base_uri": "https://localhost:8080/",
          "height": 104
        },
        "outputId": "67c25a80-ec99-40c2-b2dc-8c65420f9e92"
      },
      "source": [
        "#sklearn without trial\n",
        "from sklearn.ensemble import RandomForestRegressor\n",
        "### fit a random forest (suggested max_depth between 3 and 7)\n",
        "forest = RandomForestRegressor(max_depth = 5, random_state = 42)\n",
        "forest.fit(X_boruta, y)\n",
        "### store feature importances\n",
        "feat_imp_X = forest.feature_importances_[:len(X.columns)]\n",
        "feat_imp_shadow = forest.feature_importances_[len(X.columns):]\n",
        "### compute hits\n",
        "hits = feat_imp_X > feat_imp_shadow.max()\n",
        "print(hits)\n",
        "feat_imp_shadow=[round(i*100,2) for i in feat_imp_shadow]\n",
        "feat_imp_X=[round(i*100,2) for i in feat_imp_X]\n",
        "print('Importance %age for shuffled features')\n",
        "print(feat_imp_shadow)\n",
        "print('Importance %age for unshuffled features')\n",
        "print(feat_imp_X)"
      ],
      "execution_count": 32,
      "outputs": [
        {
          "output_type": "stream",
          "text": [
            "[ True False False]\n",
            "Importance %age for shuffled features\n",
            "[11.26, 12.26, 23.11]\n",
            "Importance %age for unshuffled features\n",
            "[30.48, 13.74, 9.15]\n"
          ],
          "name": "stdout"
        }
      ]
    },
    {
      "cell_type": "code",
      "metadata": {
        "id": "-9J77onpIURc",
        "colab_type": "code",
        "colab": {
          "base_uri": "https://localhost:8080/",
          "height": 87
        },
        "outputId": "7496f931-29e2-48ae-9de8-2f06f89e8652"
      },
      "source": [
        "#sklearn with trial\n",
        "#initialize hits list to count instances where the feature had importance > threhsold\n",
        "hits = np.zeros((len(X.columns)))\n",
        "#perform 20 trials\n",
        "for i in range(20):\n",
        "   #create X_shuffle\n",
        "   np.random.seed(i)\n",
        "   X_shuffle = X.apply(np.random.permutation)\n",
        "   X_boruta = pd.concat([X, X_shuffle], axis = 1)\n",
        "   #fit random forest\n",
        "   clf = RandomForestRegressor(max_depth = 5)\n",
        "   clf.fit(X_boruta, y)\n",
        "   ### store feature importance\n",
        "   feature_imp_X = clf.feature_importances_[:len(X.columns)]\n",
        "   feature_imp_shuffled = clf.feature_importances_[len(X.columns):]\n",
        "   ### compute hits for this trial and add to counter\n",
        "   hits += (feature_imp_X > feature_imp_shuffled.max())\n",
        "print('Hits for every feature')\n",
        "for i in range(len(X.columns)):\n",
        "  print(X.columns[i],':',hits[i])"
      ],
      "execution_count": 36,
      "outputs": [
        {
          "output_type": "stream",
          "text": [
            "Hits for every feature\n",
            "study_hours_in_a_week : 14.0\n",
            "height(in cms) : 3.0\n",
            "weight(in kg) : 1.0\n"
          ],
          "name": "stdout"
        }
      ]
    },
    {
      "cell_type": "code",
      "metadata": {
        "id": "qhxevEk5LATO",
        "colab_type": "code",
        "colab": {
          "base_uri": "https://localhost:8080/",
          "height": 313
        },
        "outputId": "f70bcf2f-8eaf-4aac-bffb-417c751087a2"
      },
      "source": [
        "import scipy as sp\n",
        "trials = 20\n",
        "pmf = [sp.stats.binom.pmf(x, trials, .5) for x in range(1,trials + 1)]\n",
        "import matplotlib.pyplot as plt\n",
        "plt.xticks(np.arange(0, 21, 1)) \n",
        "plt.plot(range(1,4),pmf[:3],'-ro')\n",
        "plt.plot(range(4,16),pmf[3:15],'-bo')\n",
        "plt.plot(range(16,21),pmf[15:21],'-go')\n",
        "plt.fill_between(range(1,4),pmf[:3] , color='red')\n",
        "plt.fill_between(range(4,16),pmf[3:15] , color='blue')\n",
        "plt.fill_between(range(16,21),pmf[15:21] , color='green')\n",
        "plt.title('Plot for binomial distribution of features')\n",
        "plt.xlabel('Instance count when features were important')\n",
        "plt.ylabel('Binomial distribution values')\n",
        "labels=['Discard','Might be important','Keep']\n",
        "plt.legend(labels,loc='upper right')"
      ],
      "execution_count": 37,
      "outputs": [
        {
          "output_type": "execute_result",
          "data": {
            "text/plain": [
              "<matplotlib.legend.Legend at 0x7f27dafc5780>"
            ]
          },
          "metadata": {
            "tags": []
          },
          "execution_count": 37
        },
        {
          "output_type": "display_data",
          "data": {
            "image/png": "[encoded data removed]",
            "text/plain": [
              "<Figure size 432x288 with 1 Axes>"
            ]
          },
          "metadata": {
            "tags": [],
            "needs_background": "light"
          }
        }
      ]
    }
  ]
}